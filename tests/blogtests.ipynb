{
 "metadata": {
  "language_info": {
   "codemirror_mode": {
    "name": "ipython",
    "version": 3
   },
   "file_extension": ".py",
   "mimetype": "text/x-python",
   "name": "python",
   "nbconvert_exporter": "python",
   "pygments_lexer": "ipython3",
   "version": "3.9.0-final"
  },
  "orig_nbformat": 2,
  "kernelspec": {
   "name": "python3",
   "display_name": "Python 3",
   "language": "python"
  }
 },
 "nbformat": 4,
 "nbformat_minor": 2,
 "cells": [
  {
   "cell_type": "code",
   "execution_count": 9,
   "metadata": {},
   "outputs": [
    {
     "output_type": "execute_result",
     "data": {
      "text/plain": [
       "[]"
      ]
     },
     "metadata": {},
     "execution_count": 9
    }
   ],
   "source": [
    "import boto3\n",
    "table_name = 'blogCustomer'\n",
    "dynamodb = boto3.resource('dynamodb', endpoint_url=\"http://localhost:8000\")\n",
    "tbl_name = 'blogCustomer' \n",
    "customers_table = dynamodb.Table(table_name)\n",
    "response = customers_table.scan()\n",
    "\n",
    "response['Items']"
   ]
  },
  {
   "cell_type": "code",
   "execution_count": 8,
   "metadata": {},
   "outputs": [],
   "source": [
    "for x in response['Items']:\n",
    "    cust = x['customer']\n",
    "    response = customers_table.delete_item(\n",
    "            Key={\n",
    "                'customer': cust\n",
    "            }\n",
    "        )"
   ]
  },
  {
   "cell_type": "code",
   "execution_count": 22,
   "metadata": {},
   "outputs": [],
   "source": [
    "a = {'version': '2.0', 'routeKey': 'GET /comments', 'rawPath': '/prod/comments', 'rawQueryString': 'customer=rigur','headers': {'accept': '*/*', 'accept-encoding': 'gzip, deflate, br', 'cache-control': 'no-cache', 'content-length': '0', 'host': 'a490war5g1.execute-api.eu-west-1.amazonaws.com', 'postman-token': 'da3cfdb2-a395-4636-a8f8-6923e937227d', 'user-agent': 'PostmanRuntime/7.26.10', 'x-amzn-trace-id': 'Root=1-604cb0d0-311668de7bf5ef471fbd282f', 'x-forwarded-for': '86.12.192.198', 'x-forwarded-port': '443', 'x-forwarded-proto': 'https'}, 'queryStringParameters': {'customer': 'rigur'}, 'requestContext': {'accountId': '428972862868', 'apiId': 'a490war5g1', 'domainName':  'a490war5g1.execute-api.eu-west-1.amazonaws.com', 'domainPrefix': 'a490war5g1', 'http': {'method': 'GET', 'path': '/prod/comments', 'protocol': 'HTTP/1.1', 'sourceIp': '86.12.192.198', 'userAgent': 'PostmanRuntime/7.26.10'}, 'requestId': 'cICQlhexDoEEP3Q=', 'routeKey': 'GET /comments', 'stage': 'prod', 'time': '13/Mar/2021:12:32:16 +0000', 'timeEpoch': 1615638736410}, 'isBase64Encoded': False}"
   ]
  },
  {
   "cell_type": "code",
   "execution_count": 65,
   "metadata": {},
   "outputs": [
    {
     "output_type": "execute_result",
     "data": {
      "text/plain": [
       "'GET'"
      ]
     },
     "metadata": {},
     "execution_count": 65
    }
   ],
   "source": [
    "path = a['requestContext']['http']['path'].split('/')\n",
    "path[-1:][0]\n",
    "path = a['requestContext']['http']['method']\n",
    "path"
   ]
  },
  {
   "cell_type": "code",
   "execution_count": 60,
   "metadata": {},
   "outputs": [
    {
     "output_type": "execute_result",
     "data": {
      "text/plain": [
       "'rigur'"
      ]
     },
     "metadata": {},
     "execution_count": 60
    }
   ],
   "source": [
    "a['queryStringParameters']['customer']\n"
   ]
  },
  {
   "cell_type": "code",
   "execution_count": 66,
   "metadata": {},
   "outputs": [],
   "source": [
    "a = {'customer': 'awwwww', 'pageId':'afefafefe', 'comment':'this is a comment'\n",
    "}"
   ]
  },
  {
   "cell_type": "code",
   "execution_count": 67,
   "metadata": {},
   "outputs": [
    {
     "output_type": "execute_result",
     "data": {
      "text/plain": [
       "{'customer': 'awwwww', 'pageId': 'afefafefe', 'comment': 'this is a comment'}"
      ]
     },
     "metadata": {},
     "execution_count": 67
    }
   ],
   "source": [
    "a\n"
   ]
  },
  {
   "cell_type": "code",
   "execution_count": 68,
   "metadata": {},
   "outputs": [
    {
     "output_type": "execute_result",
     "data": {
      "text/plain": [
       "'awwwww'"
      ]
     },
     "metadata": {},
     "execution_count": 68
    }
   ],
   "source": [
    "a['customer']"
   ]
  },
  {
   "cell_type": "code",
   "execution_count": 78,
   "metadata": {},
   "outputs": [
    {
     "output_type": "stream",
     "name": "stdout",
     "text": [
      "a\n"
     ]
    }
   ],
   "source": [
    "import uuid\n",
    "new_commentId = uuid.uuid4().hex\n",
    "# new_commentId = ''\n",
    "if (new_commentId):\n",
    "    print('a')\n",
    "else:\n",
    "    print('b')"
   ]
  },
  {
   "cell_type": "code",
   "execution_count": 127,
   "metadata": {},
   "outputs": [],
   "source": [
    "pb = {'version': '2.0', 'routeKey': 'POST /comments', 'rawPath': '/prod/comments', 'rawQueryString': '', 'headers':{'accept': '*/*', 'accept-encoding': 'gzip, deflate, br', 'cache-control': 'no-cache', 'content-length': '118',\n",
    "'content-type': 'application/json', 'host':'a490war5g1.execute-api.eu-west-1.amazonaws.com', 'postman-token':\n",
    "'dd3e119e-8d63-43e4-a29a-86dde86e4623', 'user-agent': 'PostmanRuntime/7.26.10', 'x-amzn-trace-id':'Root=1-604dd0a8-51b1da226dfd258457ab5ab5', 'x-forwarded-for': '86.12.192.198', 'x-forwarded-port': '443',\n",
    "'x-forwarded-proto': 'https'}, 'requestContext': {'accountId': '428972862868', 'apiId': 'a490war5g1', 'domainName':'a490war5g1.execute-api.eu-west-1.amazonaws.com', 'domainPrefix': 'a490war5g1', 'http': {'method': 'POST', 'path':'/prod/comments', 'protocol': 'HTTP/1.1', 'sourceIp': '86.12.192.198', 'userAgent': 'PostmanRuntime/7.26.10'},\n",
    "'requestId': 'cK2KUiMGjoEEP9g=', 'routeKey': 'POST /comments', 'stage': 'prod', 'time': '14/Mar/2021:09:00:24 +0000','timeEpoch': 1615712424345}, 'body': '{\"action\":\"new\", \"customer\": \"pauserun_test\", \"pageId\":\"AWS-Hammer\", \"comment\":\"this isnt a comment\", \"name\": \"jason\"}', 'isBase64Encoded': False}"
   ]
  },
  {
   "cell_type": "code",
   "execution_count": 131,
   "metadata": {},
   "outputs": [
    {
     "output_type": "execute_result",
     "data": {
      "text/plain": [
       "'new'"
      ]
     },
     "metadata": {},
     "execution_count": 131
    }
   ],
   "source": [
    "\n",
    "import json\n",
    "body2 = pb['body']\n",
    "body2\n",
    "a = json.loads(body2)\n",
    "a['action']"
   ]
  },
  {
   "cell_type": "code",
   "execution_count": 125,
   "metadata": {},
   "outputs": [
    {
     "output_type": "execute_result",
     "data": {
      "text/plain": [
       "'{\"action\":\"new\", \"customer\": \"pauserun_test\", \"pageId\":\"AWS-Hammer\", \"comment\":\"this isnt a comment\", \"name\": \"jason\"}'"
      ]
     },
     "metadata": {},
     "execution_count": 125
    }
   ],
   "source": [
    "a = \"{'action':'new', 'customer': 'pauserun_test', 'pageId':'AWS-Hammer', 'comment':'this isnt a comment', 'name': 'jason'}\"\n",
    "b =a.replace('\\'','\"')\n",
    "b"
   ]
  },
  {
   "cell_type": "code",
   "execution_count": null,
   "metadata": {},
   "outputs": [],
   "source": []
  }
 ]
}